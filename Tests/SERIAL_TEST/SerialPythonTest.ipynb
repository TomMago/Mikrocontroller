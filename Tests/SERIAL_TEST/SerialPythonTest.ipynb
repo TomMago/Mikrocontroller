{
 "cells": [
  {
   "cell_type": "code",
   "execution_count": 1,
   "metadata": {},
   "outputs": [],
   "source": [
    "import serial\n",
    "import time"
   ]
  },
  {
   "cell_type": "code",
   "execution_count": 8,
   "metadata": {},
   "outputs": [],
   "source": [
    "#Genau so aus dem Python Programm Übernommen\n",
    "arduino_port = \"COM6\"\n",
    "arduino_baud = 57600\n",
    "global ser\n",
    "\n",
    "ser = serial.Serial(\n",
    "    port=arduino_port,\n",
    "    baudrate=arduino_baud,\n",
    "    parity=serial.PARITY_NONE,\n",
    "    stopbits=serial.STOPBITS_ONE,\n",
    "    bytesize=serial.EIGHTBITS,\n",
    "    timeout=0,\n",
    ") \n"
   ]
  },
  {
   "cell_type": "code",
   "execution_count": 14,
   "metadata": {},
   "outputs": [],
   "source": [
    "ser.close()"
   ]
  },
  {
   "cell_type": "code",
   "execution_count": 19,
   "metadata": {},
   "outputs": [
    {
     "name": "stdout",
     "output_type": "stream",
     "text": [
      "AU 100 100 100 100 \n",
      "\n"
     ]
    }
   ],
   "source": [
    "#Serial read\n",
    "serline = ser.readline().decode('UTF-8')\n",
    "print(serline)"
   ]
  },
  {
   "cell_type": "code",
   "execution_count": 12,
   "metadata": {},
   "outputs": [
    {
     "name": "stdout",
     "output_type": "stream",
     "text": [
      "1\n",
      "2\n",
      "3\n",
      "4\n",
      "5\n",
      "6\n",
      "7\n",
      "8\n",
      "9\n"
     ]
    }
   ],
   "source": [
    "for j in range(1,10):\n",
    "    for i in range(50, 100):\n",
    "        Gesch = i\n",
    "        motorGesch= str(Gesch)\n",
    "\n",
    "        string = 'CM M0:'+motorGesch+' M1:'+motorGesch+' M2:'+motorGesch+' M3:'+motorGesch+'\\n'\n",
    "        #print(Gesch)\n",
    "        ser.write(bytes(string, 'UTF-8'))\n",
    "        time.sleep(.05)\n",
    "\n",
    "    print(j)\n"
   ]
  },
  {
   "cell_type": "code",
   "execution_count": 13,
   "metadata": {},
   "outputs": [
    {
     "data": {
      "text/plain": [
       "23"
      ]
     },
     "execution_count": 13,
     "metadata": {},
     "output_type": "execute_result"
    }
   ],
   "source": [
    "#Motor stop code\n",
    "\n",
    "motorGesch= str(0)\n",
    "string = 'CM M0:'+motorGesch+' M1:'+motorGesch+' M2:'+motorGesch+' M3:'+motorGesch+'\\n'\n",
    "ser.write(bytes(string, 'UTF-8'))"
   ]
  },
  {
   "cell_type": "code",
   "execution_count": 25,
   "metadata": {},
   "outputs": [
    {
     "data": {
      "text/plain": [
       "22"
      ]
     },
     "execution_count": 25,
     "metadata": {},
     "output_type": "execute_result"
    }
   ],
   "source": [
    "len(\"CM M0:0 M1:0 M2:0 M3:0\")"
   ]
  }
 ],
 "metadata": {
  "interpreter": {
   "hash": "ca09bcdc7c75214c37365e093ab28a65ed99be5a30a7423dc3b6842641ab8c35"
  },
  "kernelspec": {
   "display_name": "Python 3.9.1 64-bit",
   "language": "python",
   "name": "python3"
  },
  "language_info": {
   "codemirror_mode": {
    "name": "ipython",
    "version": 3
   },
   "file_extension": ".py",
   "mimetype": "text/x-python",
   "name": "python",
   "nbconvert_exporter": "python",
   "pygments_lexer": "ipython3",
   "version": "3.9.1"
  },
  "orig_nbformat": 4
 },
 "nbformat": 4,
 "nbformat_minor": 2
}
